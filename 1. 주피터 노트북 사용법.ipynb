{
 "cells": [
  {
   "cell_type": "markdown",
   "metadata": {},
   "source": [
    "## 단축키 사용법\n",
    "\n",
    "### 실행모드(ESC)\n",
    "\n",
    "* a키를 누르면 위에 셀이 추가 됩니다.\n",
    "* b키를 누르면 아래에 셀이 추가 됩니다.\n",
    "* dd키를 누르면 셀이 삭제됩니다.\n",
    "* m키를 누르면 마크다운 셀로 변경됩니다.\n",
    "* y키를 누르면 코드 셀로 변경됩니다.\n",
    "    \n",
    "### 편집모드\n",
    "\n",
    "* Shift + Enter 키를 누르면 셀이 실행되며 다음셀로 이동합니다.\n",
    "* Ctrl + Enter 키를 누르면 셀이 실행됩니다.\n",
    "* 실행상태에서 Enter 키를 누르면 셀이 편집상태로 돌아옵니다.\n"
   ]
  },
  {
   "cell_type": "code",
   "execution_count": null,
   "metadata": {},
   "outputs": [],
   "source": []
  },
  {
   "cell_type": "code",
   "execution_count": null,
   "metadata": {},
   "outputs": [],
   "source": []
  }
 ],
 "metadata": {
  "kernelspec": {
   "display_name": "Python 3",
   "language": "python",
   "name": "python3"
  },
  "language_info": {
   "codemirror_mode": {
    "name": "ipython",
    "version": 3
   },
   "file_extension": ".py",
   "mimetype": "text/x-python",
   "name": "python",
   "nbconvert_exporter": "python",
   "pygments_lexer": "ipython3",
   "version": "3.7.6"
  },
  "varInspector": {
   "cols": {
    "lenName": 16,
    "lenType": 16,
    "lenVar": 40
   },
   "kernels_config": {
    "python": {
     "delete_cmd_postfix": "",
     "delete_cmd_prefix": "del ",
     "library": "var_list.py",
     "varRefreshCmd": "print(var_dic_list())"
    },
    "r": {
     "delete_cmd_postfix": ") ",
     "delete_cmd_prefix": "rm(",
     "library": "var_list.r",
     "varRefreshCmd": "cat(var_dic_list()) "
    }
   },
   "types_to_exclude": [
    "module",
    "function",
    "builtin_function_or_method",
    "instance",
    "_Feature"
   ],
   "window_display": false
  }
 },
 "nbformat": 4,
 "nbformat_minor": 4
}
